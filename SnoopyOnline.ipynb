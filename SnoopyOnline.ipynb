{
 "cells": [
  {
   "cell_type": "markdown",
   "id": "facial-abraham",
   "metadata": {},
   "source": [
    "### Descargar datos via AWS S3"
   ]
  },
  {
   "cell_type": "markdown",
   "id": "characteristic-shopping",
   "metadata": {},
   "source": [
    "Para saber que PATH y ROW escoger para encontrar nuestra zona de estudio, se usará el siguiente enlace para encontrar las variables para COROPUNA:\n",
    "- https://landsat.usgs.gov/landsat_acq#convertPathRow\n",
    "- {PATH 4, ROW 71}\n",
    "\n",
    "A la hora de acceder a la información del bucket, esta vendrá proporcionada de la siguiente manera: /SENSOR_ID/01/PATH/ROW/SCENE_ID/\n",
    "- SENSOR_ID : identificador del satélite e instrumento\n",
    "- 01 : indicador de datos por parte de Landsat Collection 1\n",
    "- PATH : ruta WRS escogida\n",
    "- ROW : fila WRS escogida\n",
    "- SCENE_ID : ID único de la escena\n",
    "\n",
    "http://geologyandpython.com/get-landsat-8.html\n"
   ]
  },
  {
   "cell_type": "markdown",
   "id": "appointed-freedom",
   "metadata": {},
   "source": [
    "#### Descarga del catálogo Landsat 8"
   ]
  },
  {
   "cell_type": "code",
   "execution_count": 1,
   "id": "apparent-inventory",
   "metadata": {},
   "outputs": [
    {
     "name": "stdout",
     "output_type": "stream",
     "text": [
      "COVER\n",
      "FECHA\n"
     ]
    }
   ],
   "source": [
    "import numpy as np\n",
    "from osgeo import gdal\n",
    "import glob\n",
    "import json\n",
    "import Utils as ut\n",
    "import VectorRast as vr\n",
    "import IoRast   as rose\n",
    "from os.path import join\n",
    "import TempSurface as tm\n",
    "import AtmosCorrection as ac\n",
    "import pandas as pd\n",
    "\n",
    "\n",
    "ROW = 32\n",
    "PATH = 202\n",
    "\n",
    "# Abrimos el fichero de parámetros de configuración del usuario\n",
    "with open ('config.json', 'r') as file: config = json.load(file)\n",
    "\n",
    "\n",
    "# Descargamos el catálogo \n",
    "# 'http://landsat-pds.s3.amazonaws.com/c1/L8/scene_list.gz'\n",
    "s3_scenes = pd.read_csv('Catalogo/scene_list.gz', compression='gzip')\n",
    "\n",
    "# Escogemos el path y row de COROPUNA, escogemos aquellas imágenes de calidad Tier 1, calibradas y referenciadas\n",
    "s3_scenes = s3_scenes[(s3_scenes.path == PATH) & (s3_scenes.row == ROW) & (~s3_scenes.productId.str.contains('_T2')) & (~s3_scenes.productId.str.contains('_RT'))]\n",
    "\n",
    "# Si existe varias tomas de una misma escena, entonces escogemos la que menor cobertura nubosa contenga y ordenamos la tabla por fecha de adquisición de los datos\n",
    "s3_scenes = s3_scenes.sort_values('cloudCover').groupby(s3_scenes.productId).first().sort_values('acquisitionDate')\n",
    "\n",
    "print(\"COVER\")\n",
    "# Escogemos aquellas escenas cuya cobertura nubosa sea inferior a un 70%\n",
    "s3_scenes = s3_scenes[s3_scenes.cloudCover < 70]\n",
    "\n",
    "print(\"FECHA\")\n",
    "# Escogemos todas las escenas de 2014 hacia delante\n",
    "s3_scenes = s3_scenes[s3_scenes.acquisitionDate  > '2014-01-01']"
   ]
  },
  {
   "cell_type": "markdown",
   "id": "tropical-newspaper",
   "metadata": {},
   "source": [
    "#### Procesamiento en descarga"
   ]
  },
  {
   "cell_type": "code",
   "execution_count": 2,
   "id": "clean-anthropology",
   "metadata": {},
   "outputs": [
    {
     "name": "stdout",
     "output_type": "stream",
     "text": [
      "Procesando archivo número 14\n",
      "Fecha adquisicion: {'2014-10-31 11:01:55.945972'}\n",
      "% Cobertura nubosa {1.38}\n",
      "Tiempo en descargar y cargar bandas: 76.3153791428 seconds.\n",
      "Vectorizando...\n",
      "Finalizado\n"
     ]
    }
   ],
   "source": [
    "import numpy as np\n",
    "from osgeo import gdal\n",
    "import glob\n",
    "import json\n",
    "import Utils as ut\n",
    "import VectorRast as vr\n",
    "import IoRast   as rose\n",
    "from os.path import join\n",
    "import TempSurface as tm\n",
    "import AtmosCorrection as ac\n",
    "from time import time\n",
    "\n",
    "gdal.SetConfigOption('CPL_VSIL_CURL_ALLOWED_EXTENSIONS', 'tif')\n",
    "gdal.SetConfigOption('VSI_CACHE', 'TRUE')\n",
    "gdal.SetConfigOption('GDAL_DISABLE_READDIR_ON_OPEN', 'TRUE')\n",
    "gdal.SetConfigOption('CPL_VSIL_CURL_CHUNK_SIZE', '32768')\n",
    "gdal.SetConfigOption('CPL_VSIL_CURL_CACHE_SIZE', '655360')\n",
    "gdal.SetConfigOption('CPL_DEBUG', 'OFF')\n",
    "gdal.SetConfigOption('AWS_NO_SIGN_REQUEST', 'YES')\n",
    "\n",
    "i, ms = 14, [9, 10, 11, 12, 1, 2, 3]\n",
    "\n",
    "while i < len(s3_scenes):\n",
    "    if int(str(s3_scenes.iloc[i].acquisitionDate).split('-')[1]) in ms:\n",
    "        \n",
    " \n",
    "        print(f'Procesando archivo número {i}')\n",
    "\n",
    "        print('Fecha adquisicion:', {s3_scenes.iloc[i]['acquisitionDate']})\n",
    "        print('% Cobertura nubosa', {s3_scenes.iloc[i]['cloudCover']})\n",
    "        start_time = time()\n",
    "        \n",
    "        # Creamos las url para cada banda vsicurl\n",
    "        url = '/'.join(s3_scenes.iloc[i]['download_url'].split('/')[0:-1])\n",
    "        blue, green, red, nir, swir1, tir1 = [f'/vsicurl/{url}/{s3_scenes.iloc[i].productId}_B{j}.TIF' for j in [2, 3, 4, 5, 6, 10]]\n",
    "\n",
    "        # Creamos la url para el archivo MTL\n",
    "        MTL = f'{url}/{s3_scenes.iloc[i].productId}_MTL.txt'\n",
    "        \n",
    "        # Cargamos contenido del archivo MTL en memoria\n",
    "        params = rose.readOnMTL(MTL)\n",
    "        \n",
    "        # Introducimos nuevos parametros que se quitarán posteriormente\n",
    "        config['date'] = params['DATE_ACQUIRED']\n",
    "        config['mrs'] = 1 \n",
    "        config['aoi'] = None #(2000, 3000, 4000, 2000) #(3000, 2000, 2000, 1000) COROPUNA\n",
    "\n",
    "        # Cargamos las imágenes en memoria\n",
    "        r1, tir1   = rose.loadRasterImage(tir1 , config['aoi'])\n",
    "        r2, blue   = rose.loadRasterImage(blue , config['aoi'])\n",
    "        r3, green  = rose.loadRasterImage(green, config['aoi'])\n",
    "        r4, red    = rose.loadRasterImage(red  , config['aoi'])\n",
    "        r5, nir    = rose.loadRasterImage(nir  , config['aoi'])\n",
    "        r6, swir1  = rose.loadRasterImage(swir1, config['aoi'])\n",
    "\n",
    "        elapsed_time = time() - start_time\n",
    "        print(\"Tiempo en descargar y cargar bandas: %0.10f seconds.\" % elapsed_time)\n",
    "      \n",
    "        if config['aoi'] is None:\n",
    "            config['aoi'] = (0, 0, 0, 0)\n",
    " \n",
    "        '''# Corregimos atmosfericamente\n",
    "        blue       = ac.atmosCorrection(2, params, blue , config['mode'])\n",
    "        green      = ac.atmosCorrection(3, params, green, config['mode'])\n",
    "        swir1      = ac.atmosCorrection(6, params, swir1, config['mode'])\n",
    "\n",
    "\n",
    "        # Generamos NDSI para calcular mascara de nieve\n",
    "        NDSI       = ut.calcNormIndex([swir1, green])\n",
    "\n",
    "        # Conseguimos la temperatura en superficie y la pasamos a grados celsius\n",
    "        res        = tm.tir2Temp(red, nir, tir1, params)\n",
    "        res        = res - 273.15\n",
    "\n",
    "        # Definimos que existe presencia de nieve cuando el NDSI > 0.1 y la temperatura es mayor a -20 grados\n",
    "        presencia  = (NDSI >= 0.20) & (res > -20) #-20\n",
    "\n",
    "        # Como el NDSI tambien coge masas de agua, una forma fácil de eliminarlas es tomando como máscara, aquellas zona de temperaturas mayores a 5 grados.\n",
    "        presencia &= (res < 5)\n",
    "\n",
    "        # A su vez, se tendrá en cuenta una máscara para eliminar nubes más densas o de mayor altura, haciendo uso de la banda swir del instrumento\n",
    "        presencia &= (ut.norm(blue) < 0.8) & (ut.norm(swir1) < 0.2)\n",
    "\n",
    "        # Tras ello, añadimos las coberturas claras de nieve a la solucion\n",
    "        presencia |= (NDSI >= 0.4)\n",
    "\n",
    "        NDSI[~presencia] = config['mini']\n",
    "\n",
    "        print('Almacenando máscara...')\n",
    "        out = join(config['PathMASK'],s3_scenes.iloc[i]['productId'] + '.tif' )\n",
    "        rose.saveBandAsTiff(out, r6, NDSI)'''\n",
    "        \n",
    "        print('Vectorizando...')\n",
    "        \n",
    "        #vr.generateShapes(NDSI, r6, config)\n",
    "        \n",
    "        print('Finalizado')\n",
    "        break\n",
    "        \n",
    "        \n",
    "    i += 1\n",
    "# https://lucid.app/lucidchart/f7c340f6-ef6e-42e4-8bb1-a9c7f6eec8f6/edit?beaconFlowId=925647224A203237&page=0_0#"
   ]
  },
  {
   "cell_type": "code",
   "execution_count": 6,
   "id": "nearby-annotation",
   "metadata": {},
   "outputs": [
    {
     "data": {
      "text/plain": [
       "0"
      ]
     },
     "execution_count": 6,
     "metadata": {},
     "output_type": "execute_result"
    }
   ],
   "source": [
    "green.min()"
   ]
  },
  {
   "cell_type": "code",
   "execution_count": null,
   "id": "mathematical-tonight",
   "metadata": {},
   "outputs": [],
   "source": [
    "# recortar -> https://gidahatari.com/ih-es/como-cortar-multiples-bandas-de-una-imagen-landsat-8-con-python-y-gdal-tutorial"
   ]
  },
  {
   "cell_type": "markdown",
   "id": "psychological-address",
   "metadata": {},
   "source": [
    "### Recortar haciendo uso de un shapefile"
   ]
  },
  {
   "cell_type": "code",
   "execution_count": 27,
   "id": "stopped-newton",
   "metadata": {},
   "outputs": [
    {
     "name": "stdout",
     "output_type": "stream",
     "text": [
      "D:\\Mask\\imgs\\LC08_L1TP_202032_20140201_20170426_01_T1_crop.tif\n",
      "D:\\Mask\\imgs\\LC08_L1TP_202032_20140305_20180527_01_T1_crop.tif\n",
      "D:\\Mask\\imgs\\LC08_L1TP_202032_20140913_20170419_01_T1_crop.tif\n",
      "D:\\Mask\\imgs\\LC08_L1TP_202032_20140929_20170419_01_T1_crop.tif\n",
      "D:\\Mask\\imgs\\LC08_L1TP_202032_20141031_20170418_01_T1_crop.tif\n",
      "D:\\Mask\\imgs\\LC08_L1TP_202032_20141116_20170417_01_T1_crop.tif\n",
      "D:\\Mask\\imgs\\LC08_L1TP_202032_20141202_20170416_01_T1_crop.tif\n",
      "D:\\Mask\\imgs\\LC08_L1TP_202032_20141218_20170416_01_T1_crop.tif\n",
      "D:\\Mask\\imgs\\LC08_L1TP_202032_20150103_20170415_01_T1_crop.tif\n",
      "D:\\Mask\\imgs\\LC08_L1TP_202032_20150119_20170413_01_T1_crop.tif\n",
      "D:\\Mask\\imgs\\LC08_L1TP_202032_20150204_20170413_01_T1_crop.tif\n",
      "D:\\Mask\\imgs\\LC08_L1TP_202032_20150308_20170412_01_T1_crop.tif\n",
      "D:\\Mask\\imgs\\LC08_L1TP_202032_20151002_20170403_01_T1_crop.tif\n",
      "D:\\Mask\\imgs\\LC08_L1TP_202032_20151119_20170402_01_T1_crop.tif\n",
      "D:\\Mask\\imgs\\LC08_L1TP_202032_20151205_20170401_01_T1_crop.tif\n",
      "D:\\Mask\\imgs\\LC08_L1TP_202032_20151221_20170331_01_T1_crop.tif\n",
      "D:\\Mask\\imgs\\LC08_L1TP_202032_20160207_20170330_01_T1_crop.tif\n",
      "D:\\Mask\\imgs\\LC08_L1TP_202032_20160223_20180527_01_T1_crop.tif\n",
      "D:\\Mask\\imgs\\LC08_L1TP_202032_20160310_20170328_01_T1_crop.tif\n",
      "D:\\Mask\\imgs\\LC08_L1TP_202032_20160902_20170321_01_T1_crop.tif\n",
      "D:\\Mask\\imgs\\LC08_L1TP_202032_20160918_20170321_01_T1_crop.tif\n",
      "D:\\Mask\\imgs\\LC08_L1TP_202032_20161004_20170320_01_T1_crop.tif\n",
      "D:\\Mask\\imgs\\LC08_L1TP_202032_20161020_20170319_01_T1_crop.tif\n",
      "D:\\Mask\\imgs\\LC08_L1TP_202032_20161121_20170318_01_T1_crop.tif\n",
      "D:\\Mask\\imgs\\LC08_L1TP_202032_20161223_20170315_01_T1_crop.tif\n",
      "D:\\Mask\\imgs\\LC08_L1TP_202032_20170108_20170311_01_T1_crop.tif\n",
      "D:\\Mask\\imgs\\LC08_L1TP_202032_20170124_20170311_01_T1_crop.tif\n",
      "D:\\Mask\\imgs\\LC08_L1TP_202032_20170225_20170316_01_T1_crop.tif\n",
      "D:\\Mask\\imgs\\LC08_L1TP_202032_20170329_20170414_01_T1_crop.tif\n",
      "D:\\Mask\\imgs\\LC08_L1TP_202032_20170905_20170917_01_T1_crop.tif\n",
      "D:\\Mask\\imgs\\LC08_L1TP_202032_20170921_20171012_01_T1_crop.tif\n",
      "D:\\Mask\\imgs\\LC08_L1TP_202032_20171007_20171023_01_T1_crop.tif\n",
      "D:\\Mask\\imgs\\LC08_L1TP_202032_20171023_20171107_01_T1_crop.tif\n",
      "D:\\Mask\\imgs\\LC08_L1TP_202032_20171108_20171121_01_T1_crop.tif\n",
      "D:\\Mask\\imgs\\LC08_L1TP_202032_20180111_20180119_01_T1_crop.tif\n",
      "D:\\Mask\\imgs\\LC08_L1TP_202032_20180127_20180207_01_T1_crop.tif\n",
      "D:\\Mask\\imgs\\LC08_L1TP_202032_20180212_20180222_01_T1_crop.tif\n",
      "D:\\Mask\\imgs\\LC08_L1TP_202032_20180316_20180316_01_T1_crop.tif\n",
      "D:\\Mask\\imgs\\LC08_L1TP_202032_20180316_20180402_01_T1_crop.tif\n",
      "D:\\Mask\\imgs\\LC08_L1TP_202032_20180908_20180912_01_T1_crop.tif\n",
      "D:\\Mask\\imgs\\LC08_L1TP_202032_20180924_20180929_01_T1_crop.tif\n",
      "D:\\Mask\\imgs\\LC08_L1TP_202032_20181010_20181030_01_T1_crop.tif\n",
      "D:\\Mask\\imgs\\LC08_L1TP_202032_20181127_20181210_01_T1_crop.tif\n",
      "D:\\Mask\\imgs\\LC08_L1TP_202032_20181213_20181227_01_T1_crop.tif\n",
      "D:\\Mask\\imgs\\LC08_L1TP_202032_20190114_20190131_01_T1_crop.tif\n",
      "D:\\Mask\\imgs\\LC08_L1TP_202032_20190215_20190222_01_T1_crop.tif\n",
      "D:\\Mask\\imgs\\LC08_L1TP_202032_20190303_20190309_01_T1_crop.tif\n",
      "D:\\Mask\\imgs\\LC08_L1TP_202032_20190319_20190325_01_T1_crop.tif\n",
      "D:\\Mask\\imgs\\LC08_L1TP_202032_20190911_20190917_01_T1_crop.tif\n",
      "D:\\Mask\\imgs\\LC08_L1TP_202032_20190927_20191017_01_T1_crop.tif\n",
      "D:\\Mask\\imgs\\LC08_L1TP_202032_20191013_20191018_01_T1_crop.tif\n",
      "D:\\Mask\\imgs\\LC08_L1TP_202032_20191029_20191114_01_T1_crop.tif\n",
      "D:\\Mask\\imgs\\LC08_L1TP_202032_20191114_20191202_01_T1_crop.tif\n",
      "D:\\Mask\\imgs\\LC08_L1TP_202032_20200101_20200113_01_T1_crop.tif\n",
      "D:\\Mask\\imgs\\LC08_L1TP_202032_20200202_20200211_01_T1_crop.tif\n",
      "D:\\Mask\\imgs\\LC08_L1TP_202032_20200218_20200225_01_T1_crop.tif\n",
      "D:\\Mask\\imgs\\LC08_L1TP_202032_20200305_20200314_01_T1_crop.tif\n",
      "D:\\Mask\\imgs\\LC08_L1TP_202032_20200913_20200920_01_T1_crop.tif\n",
      "D:\\Mask\\imgs\\LC08_L1TP_202032_20200929_20201007_01_T1_crop.tif\n",
      "D:\\Mask\\imgs\\LC08_L1TP_202032_20201031_20201106_01_T1_crop.tif\n",
      "D:\\Mask\\imgs\\LC08_L1TP_202032_20201116_20201210_01_T1_crop.tif\n",
      "D:\\Mask\\imgs\\LC08_L1TP_202032_20201202_20201217_01_T1_crop.tif\n"
     ]
    }
   ],
   "source": [
    "import numpy as np\n",
    "from osgeo import gdal\n",
    "import glob\n",
    "import json\n",
    "import Utils as ut\n",
    "import VectorRast as vr\n",
    "import IoRast   as rose\n",
    "from os.path import join\n",
    "import TempSurface as tm\n",
    "import AtmosCorrection as ac\n",
    "import pandas as pd\n",
    "\n",
    "\n",
    "# Abrimos el fichero de parámetros de configuración del usuario\n",
    "with open ('config.json', 'r') as file: config = json.load(file)\n",
    "\n",
    "inn = r'D:\\Mask\\imgs'\n",
    "shp = r'D:\\Mask\\shp\\AOI.shp'\n",
    "out = r'D:\\Mask\\crops'\n",
    "\n",
    "tifs = glob.glob(join(inn, '*.tif'))\n",
    "\n",
    "\n",
    "for band in tifs:\n",
    "    print(band[:-4]+'_crop'+band[-4:])\n",
    "    options = gdal.WarpOptions(cutlineDSName=shp,cropToCutline=True)\n",
    "    outBand = gdal.Warp(srcDSOrSrcDSTab=band,\n",
    "                        destNameOrDestDS=band[:-4]+'_crop'+band[-4:],\n",
    "                        options=options)\n",
    "    outBand= None\n",
    "   \n"
   ]
  },
  {
   "cell_type": "markdown",
   "id": "present-quilt",
   "metadata": {},
   "source": [
    "### Sacar estadísticos por año"
   ]
  },
  {
   "cell_type": "code",
   "execution_count": 2,
   "id": "popular-symphony",
   "metadata": {},
   "outputs": [
    {
     "name": "stdout",
     "output_type": "stream",
     "text": [
      "D:/Mask/imgs\\2014\\\n",
      "\t D:/Mask/imgs\\2014\\LC08_L1TP_202032_20140201_20170426_01_T1_crop.tif\n",
      "\t D:/Mask/imgs\\2014\\LC08_L1TP_202032_20140305_20180527_01_T1_crop.tif\n",
      "\t D:/Mask/imgs\\2014\\LC08_L1TP_202032_20141116_20170417_01_T1_crop.tif\n",
      "\t D:/Mask/imgs\\2014\\LC08_L1TP_202032_20141202_20170416_01_T1_crop.tif\n",
      "\t D:/Mask/imgs\\2014\\LC08_L1TP_202032_20141218_20170416_01_T1_crop.tif\n",
      "D:/Mask/imgs\\2015\\\n",
      "\t D:/Mask/imgs\\2015\\LC08_L1TP_202032_20150103_20170415_01_T1_crop.tif\n",
      "\t D:/Mask/imgs\\2015\\LC08_L1TP_202032_20150119_20170413_01_T1_crop.tif\n",
      "\t D:/Mask/imgs\\2015\\LC08_L1TP_202032_20150308_20170412_01_T1_crop.tif\n",
      "\t D:/Mask/imgs\\2015\\LC08_L1TP_202032_20151119_20170402_01_T1_crop.tif\n",
      "\t D:/Mask/imgs\\2015\\LC08_L1TP_202032_20151205_20170401_01_T1_crop.tif\n",
      "\t D:/Mask/imgs\\2015\\LC08_L1TP_202032_20151221_20170331_01_T1_crop.tif\n",
      "D:/Mask/imgs\\2016\\\n",
      "\t D:/Mask/imgs\\2016\\LC08_L1TP_202032_20160207_20170330_01_T1_crop.tif\n",
      "\t D:/Mask/imgs\\2016\\LC08_L1TP_202032_20160223_20180527_01_T1_crop.tif\n",
      "\t D:/Mask/imgs\\2016\\LC08_L1TP_202032_20161020_20170319_01_T1_crop.tif\n",
      "\t D:/Mask/imgs\\2016\\LC08_L1TP_202032_20161121_20170318_01_T1_crop.tif\n",
      "\t D:/Mask/imgs\\2016\\LC08_L1TP_202032_20161223_20170315_01_T1_crop.tif\n",
      "D:/Mask/imgs\\2017\\\n",
      "\t D:/Mask/imgs\\2017\\LC08_L1TP_202032_20170108_20170311_01_T1_crop.tif\n",
      "\t D:/Mask/imgs\\2017\\LC08_L1TP_202032_20170124_20170311_01_T1_crop.tif\n",
      "\t D:/Mask/imgs\\2017\\LC08_L1TP_202032_20170225_20170316_01_T1_crop.tif\n",
      "\t D:/Mask/imgs\\2017\\LC08_L1TP_202032_20170329_20170414_01_T1_crop.tif\n",
      "\t D:/Mask/imgs\\2017\\LC08_L1TP_202032_20171108_20171121_01_T1_crop.tif\n",
      "D:/Mask/imgs\\2018\\\n",
      "\t D:/Mask/imgs\\2018\\LC08_L1TP_202032_20180111_20180119_01_T1_crop.tif\n",
      "\t D:/Mask/imgs\\2018\\LC08_L1TP_202032_20180127_20180207_01_T1_crop.tif\n",
      "\t D:/Mask/imgs\\2018\\LC08_L1TP_202032_20180212_20180222_01_T1_crop.tif\n",
      "\t D:/Mask/imgs\\2018\\LC08_L1TP_202032_20180316_20180316_01_T1_crop.tif\n",
      "\t D:/Mask/imgs\\2018\\LC08_L1TP_202032_20180316_20180402_01_T1_crop.tif\n",
      "\t D:/Mask/imgs\\2018\\LC08_L1TP_202032_20181127_20181210_01_T1_crop.tif\n",
      "\t D:/Mask/imgs\\2018\\LC08_L1TP_202032_20181213_20181227_01_T1_crop.tif\n",
      "D:/Mask/imgs\\2019\\\n",
      "\t D:/Mask/imgs\\2019\\LC08_L1TP_202032_20190114_20190131_01_T1_crop.tif\n",
      "\t D:/Mask/imgs\\2019\\LC08_L1TP_202032_20190215_20190222_01_T1_crop.tif\n",
      "\t D:/Mask/imgs\\2019\\LC08_L1TP_202032_20190303_20190309_01_T1_crop.tif\n",
      "\t D:/Mask/imgs\\2019\\LC08_L1TP_202032_20190319_20190325_01_T1_crop.tif\n",
      "\t D:/Mask/imgs\\2019\\LC08_L1TP_202032_20191013_20191018_01_T1_crop.tif\n",
      "\t D:/Mask/imgs\\2019\\LC08_L1TP_202032_20191029_20191114_01_T1_crop.tif\n",
      "\t D:/Mask/imgs\\2019\\LC08_L1TP_202032_20191114_20191202_01_T1_crop.tif\n",
      "D:/Mask/imgs\\2020\\\n",
      "\t D:/Mask/imgs\\2020\\LC08_L1TP_202032_20200101_20200113_01_T1_crop.tif\n",
      "\t D:/Mask/imgs\\2020\\LC08_L1TP_202032_20200202_20200211_01_T1_crop.tif\n",
      "\t D:/Mask/imgs\\2020\\LC08_L1TP_202032_20200218_20200225_01_T1_crop.tif\n",
      "\t D:/Mask/imgs\\2020\\LC08_L1TP_202032_20200305_20200314_01_T1_crop.tif\n",
      "\t D:/Mask/imgs\\2020\\LC08_L1TP_202032_20201116_20201210_01_T1_crop.tif\n",
      "\t D:/Mask/imgs\\2020\\LC08_L1TP_202032_20201202_20201217_01_T1_crop.tif\n"
     ]
    }
   ],
   "source": [
    "import numpy as np\n",
    "import IoRast   as rose\n",
    "import matplotlib.pyplot as plt\n",
    "import glob\n",
    "from os.path import join\n",
    "\n",
    "\n",
    "# std por cada año\n",
    "for folder in glob.glob(join(config['PathMASK'],'imgs/*/')):\n",
    "    print(folder)\n",
    "    st = []\n",
    "    for tif in glob.glob(join(folder, '*_crop.tif')):\n",
    "        print('\\t',tif)\n",
    "        rt, img = rose.loadRasterImage(tif , None)\n",
    "        st.append(img)\n",
    "    # Una vez cargadas en memoria todas las imágenes se realiza el stack\n",
    "    st = np.stack(st, axis = 2)\n",
    "\n",
    "    rose.saveBandAsTiff(join(folder, 'mean.tif'), rt, np.nanmean(st, axis = 2))\n",
    "    rose.saveBandAsTiff(join(folder, 'median.tif'), rt, np.nanmedian(st, axis = 2))\n",
    "    rose.saveBandAsTiff(join(folder, 'std.tif'), rt, np.nanstd(st, axis = 2))"
   ]
  },
  {
   "cell_type": "markdown",
   "id": "trained-exploration",
   "metadata": {},
   "source": [
    "### Sacar estadísticos por año"
   ]
  },
  {
   "cell_type": "code",
   "execution_count": null,
   "id": "representative-greensboro",
   "metadata": {},
   "outputs": [
    {
     "name": "stdout",
     "output_type": "stream",
     "text": [
      "D:/Mask/imgs\\2014\\\n",
      "D:/Mask/imgs\\2015\\\n",
      "D:/Mask/imgs\\2016\\\n",
      "D:/Mask/imgs\\2017\\\n",
      "D:/Mask/imgs\\2018\\\n",
      "D:/Mask/imgs\\2019\\\n",
      "D:/Mask/imgs\\2020\\\n",
      "D:/Mask/imgs\\RAW\\\n"
     ]
    }
   ],
   "source": [
    "import numpy as np\n",
    "import IoRast   as rose\n",
    "import matplotlib.pyplot as plt\n",
    "import glob\n",
    "from os.path import join\n",
    "\n",
    "\n",
    "st = []\n",
    "for folder in glob.glob(join(config['PathMASK'],'imgs/*/')):\n",
    "    print(folder)\n",
    "    for tif in glob.glob(join(folder, '*_crop.tif')):\n",
    "        rt, img = rose.loadRasterImage(tif , None)\n",
    "        st.append(img)\n",
    "    # Una vez cargadas en memoria todas las imágenes se realiza el stack\n",
    "    \n",
    "st = np.stack(st, axis = 2)\n",
    "\n",
    "rose.saveBandAsTiff(join(config['PathMASK'], 'imgs/mean.tif'), rt, np.nanmean(st, axis = 2))\n",
    "rose.saveBandAsTiff(join(config['PathMASK'], 'imgs/std.tif'), rt, np.nanstd(st, axis = 2))\n",
    "rose.saveBandAsTiff(join(config['PathMASK'], 'imgs/median.tif'), rt, np.nanmedian(st, axis = 2))\n"
   ]
  },
  {
   "cell_type": "code",
   "execution_count": null,
   "id": "suburban-future",
   "metadata": {},
   "outputs": [],
   "source": []
  },
  {
   "cell_type": "code",
   "execution_count": 23,
   "id": "official-peripheral",
   "metadata": {},
   "outputs": [],
   "source": [
    "# Mediana y STD para todas los ficheros de la mediana\n",
    "st = []\n",
    "for tif in glob.glob(join(config['PathMASK'],'*/mean.tif')):\n",
    "    rt, img = rose.loadRasterImage(tif , None)\n",
    "    st.append(img)\n",
    "st = np.stack(st, axis = 2)\n",
    "\n",
    "median = np.nanmedian(st, axis = 2)\n",
    "std    = np.nanstd(st, axis = 2)\n",
    "mean   = np.nanmean(st, axis = 2)\n",
    "\n",
    "rose.saveBandAsTiff(join(config['PathMASK'], 'median_fin_mean.tif'), rt, median)\n",
    "rose.saveBandAsTiff(join(config['PathMASK'], 'std_fin_mean.tif'), rt, std)\n",
    "rose.saveBandAsTiff(join(config['PathMASK'], 'mean_fin_mean.tif'), rt, mean)"
   ]
  },
  {
   "cell_type": "code",
   "execution_count": null,
   "id": "willing-bidding",
   "metadata": {},
   "outputs": [],
   "source": []
  },
  {
   "cell_type": "code",
   "execution_count": null,
   "id": "japanese-mouth",
   "metadata": {},
   "outputs": [],
   "source": []
  },
  {
   "cell_type": "code",
   "execution_count": null,
   "id": "improved-supervision",
   "metadata": {},
   "outputs": [],
   "source": []
  },
  {
   "cell_type": "code",
   "execution_count": null,
   "id": "statewide-nurse",
   "metadata": {},
   "outputs": [],
   "source": []
  },
  {
   "cell_type": "code",
   "execution_count": null,
   "id": "blank-linux",
   "metadata": {},
   "outputs": [],
   "source": []
  },
  {
   "cell_type": "code",
   "execution_count": null,
   "id": "married-sharing",
   "metadata": {},
   "outputs": [],
   "source": []
  },
  {
   "cell_type": "code",
   "execution_count": 12,
   "id": "blond-wedding",
   "metadata": {},
   "outputs": [
    {
     "name": "stdout",
     "output_type": "stream",
     "text": [
      "0\n",
      "0\n",
      "Series([], Name: date, dtype: object)\n"
     ]
    },
    {
     "ename": "IndexError",
     "evalue": "index 0 is out of bounds for axis 0 with size 0",
     "output_type": "error",
     "traceback": [
      "\u001b[1;31m---------------------------------------------------------------------------\u001b[0m",
      "\u001b[1;31mIndexError\u001b[0m                                Traceback (most recent call last)",
      "\u001b[1;32m<ipython-input-12-75da336255f6>\u001b[0m in \u001b[0;36m<module>\u001b[1;34m\u001b[0m\n\u001b[0;32m     19\u001b[0m         \u001b[0mpolis\u001b[0m \u001b[1;33m=\u001b[0m \u001b[0msh\u001b[0m\u001b[1;33m[\u001b[0m\u001b[1;34m'geometry'\u001b[0m\u001b[1;33m]\u001b[0m\u001b[1;33m\u001b[0m\u001b[1;33m\u001b[0m\u001b[0m\n\u001b[0;32m     20\u001b[0m         \u001b[0mprint\u001b[0m\u001b[1;33m(\u001b[0m\u001b[0msh\u001b[0m\u001b[1;33m[\u001b[0m\u001b[1;34m'date'\u001b[0m\u001b[1;33m]\u001b[0m\u001b[1;33m)\u001b[0m\u001b[1;33m\u001b[0m\u001b[1;33m\u001b[0m\u001b[0m\n\u001b[1;32m---> 21\u001b[1;33m         \u001b[0mdate\u001b[0m \u001b[1;33m=\u001b[0m \u001b[0msh\u001b[0m\u001b[1;33m[\u001b[0m\u001b[1;34m'date'\u001b[0m\u001b[1;33m]\u001b[0m\u001b[1;33m[\u001b[0m\u001b[1;36m0\u001b[0m\u001b[1;33m]\u001b[0m\u001b[1;33m\u001b[0m\u001b[1;33m\u001b[0m\u001b[0m\n\u001b[0m\u001b[0;32m     22\u001b[0m \u001b[1;33m\u001b[0m\u001b[0m\n\u001b[0;32m     23\u001b[0m     \u001b[1;31m# Realizamos el fichero shapefile resultante\u001b[0m\u001b[1;33m\u001b[0m\u001b[1;33m\u001b[0m\u001b[1;33m\u001b[0m\u001b[0m\n",
      "\u001b[1;32m~\\Anaconda3\\envs\\TFM\\lib\\site-packages\\pandas\\core\\series.py\u001b[0m in \u001b[0;36m__getitem__\u001b[1;34m(self, key)\u001b[0m\n\u001b[0;32m    819\u001b[0m \u001b[1;33m\u001b[0m\u001b[0m\n\u001b[0;32m    820\u001b[0m         \u001b[1;32mif\u001b[0m \u001b[0mis_integer\u001b[0m\u001b[1;33m(\u001b[0m\u001b[0mkey\u001b[0m\u001b[1;33m)\u001b[0m \u001b[1;32mand\u001b[0m \u001b[0mself\u001b[0m\u001b[1;33m.\u001b[0m\u001b[0mindex\u001b[0m\u001b[1;33m.\u001b[0m\u001b[0m_should_fallback_to_positional\u001b[0m\u001b[1;33m(\u001b[0m\u001b[1;33m)\u001b[0m\u001b[1;33m:\u001b[0m\u001b[1;33m\u001b[0m\u001b[1;33m\u001b[0m\u001b[0m\n\u001b[1;32m--> 821\u001b[1;33m             \u001b[1;32mreturn\u001b[0m \u001b[0mself\u001b[0m\u001b[1;33m.\u001b[0m\u001b[0m_values\u001b[0m\u001b[1;33m[\u001b[0m\u001b[0mkey\u001b[0m\u001b[1;33m]\u001b[0m\u001b[1;33m\u001b[0m\u001b[1;33m\u001b[0m\u001b[0m\n\u001b[0m\u001b[0;32m    822\u001b[0m \u001b[1;33m\u001b[0m\u001b[0m\n\u001b[0;32m    823\u001b[0m         \u001b[1;32melif\u001b[0m \u001b[0mkey_is_scalar\u001b[0m\u001b[1;33m:\u001b[0m\u001b[1;33m\u001b[0m\u001b[1;33m\u001b[0m\u001b[0m\n",
      "\u001b[1;31mIndexError\u001b[0m: index 0 is out of bounds for axis 0 with size 0"
     ]
    }
   ],
   "source": [
    "import geopandas as gpd\n",
    "from shapely.geometry import mapping, Polygon, Point\n",
    "from shapely.ops import cascaded_union, unary_union\n",
    "import fiona\n",
    "from fiona.crs import from_epsg\n",
    "import glob\n",
    "import Utils as ut\n",
    "\n",
    "sc, cont = {'geometry': 'Polygon','properties': {'id': 'int', 'date': 'str', 'area':'float'}}, 0\n",
    "dst = f'out/union.shp'\n",
    "ut.makeFolder(f'out/') \n",
    "\n",
    "with fiona.open(dst, 'w', 'ESRI Shapefile',crs=from_epsg(32618), schema=sc) as c:  # creates new file to be written to\n",
    "    for path in glob.glob('Shape\\**\\*.shp'):\n",
    "        print(cont)\n",
    "    # Leemos los datos del shapefile\n",
    "        sh = gpd.read_file(path)\n",
    "        if len(sh) > 9\n",
    "        polis = sh['geometry']\n",
    "        print(sh['date'])\n",
    "        date = sh['date'][0]\n",
    "    \n",
    "    # Realizamos el fichero shapefile resultante\n",
    "        for j in range(len(polis)):\n",
    "            c.write({'geometry': mapping(polis[j]),'properties': {'id': cont, 'date': sh['date'][0], 'area': polis[j].area},})\n",
    "            cont += 1"
   ]
  }
 ],
 "metadata": {
  "kernelspec": {
   "display_name": "Python 3",
   "language": "python",
   "name": "python3"
  },
  "language_info": {
   "codemirror_mode": {
    "name": "ipython",
    "version": 3
   },
   "file_extension": ".py",
   "mimetype": "text/x-python",
   "name": "python",
   "nbconvert_exporter": "python",
   "pygments_lexer": "ipython3",
   "version": "3.8.5"
  }
 },
 "nbformat": 4,
 "nbformat_minor": 5
}
